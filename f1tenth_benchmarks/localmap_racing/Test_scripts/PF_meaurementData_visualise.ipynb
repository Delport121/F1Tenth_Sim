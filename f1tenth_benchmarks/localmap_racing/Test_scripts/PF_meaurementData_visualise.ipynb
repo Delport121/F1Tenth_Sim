{
 "cells": [
  {
   "cell_type": "code",
   "execution_count": 30,
   "metadata": {},
   "outputs": [],
   "source": [
    "import numpy as np"
   ]
  },
  {
   "cell_type": "code",
   "execution_count": 31,
   "metadata": {},
   "outputs": [],
   "source": [
    "\n",
    "# Simulate scans for each particle\n",
    "NP = 10\n",
    "num_beams = 3\n",
    "measurement =  np.array([[1, 2, 3]])\n",
    "# print(measurement)\n",
    "\n",
    "particle_measurements = np.zeros((NP, num_beams))\n",
    "    # for i, state in enumerate(self.particles): \n",
    "    #     particle_measurements[i] = self.scan_simulator.scan(state)\n",
    "# print(particle_measurements)\n",
    "\n"
   ]
  },
  {
   "cell_type": "code",
   "execution_count": 32,
   "metadata": {},
   "outputs": [
    {
     "name": "stdout",
     "output_type": "stream",
     "text": [
      "[[-1. -2. -3.]\n",
      " [-1. -2. -3.]\n",
      " [-1. -2. -3.]\n",
      " [-1. -2. -3.]\n",
      " [-1. -2. -3.]\n",
      " [-1. -2. -3.]\n",
      " [-1. -2. -3.]\n",
      " [-1. -2. -3.]\n",
      " [-1. -2. -3.]\n",
      " [-1. -2. -3.]]\n"
     ]
    }
   ],
   "source": [
    "# Importance sampling \n",
    "z = particle_measurements - measurement\n",
    "print(z)\n",
    "        "
   ]
  },
  {
   "cell_type": "code",
   "execution_count": 37,
   "metadata": {},
   "outputs": [
    {
     "name": "stdout",
     "output_type": "stream",
     "text": [
      "[[1. 4. 9.]\n",
      " [1. 4. 9.]\n",
      " [1. 4. 9.]\n",
      " [1. 4. 9.]\n",
      " [1. 4. 9.]\n",
      " [1. 4. 9.]\n",
      " [1. 4. 9.]\n",
      " [1. 4. 9.]\n",
      " [1. 4. 9.]\n",
      " [1. 4. 9.]]\n"
     ]
    },
    {
     "data": {
      "text/plain": [
       "array([1., 4., 9.])"
      ]
     },
     "execution_count": 37,
     "metadata": {},
     "output_type": "execute_result"
    }
   ],
   "source": [
    "print(z**2)\n",
    "np.average(z**2, axis=0) #Average along the vertical axis"
   ]
  },
  {
   "cell_type": "code",
   "execution_count": 40,
   "metadata": {},
   "outputs": [
    {
     "name": "stdout",
     "output_type": "stream",
     "text": [
      "[1. 2. 3.]\n",
      "[[0.60653066 0.60653066 0.60653066]\n",
      " [0.60653066 0.60653066 0.60653066]\n",
      " [0.60653066 0.60653066 0.60653066]\n",
      " [0.60653066 0.60653066 0.60653066]\n",
      " [0.60653066 0.60653066 0.60653066]\n",
      " [0.60653066 0.60653066 0.60653066]\n",
      " [0.60653066 0.60653066 0.60653066]\n",
      " [0.60653066 0.60653066 0.60653066]\n",
      " [0.60653066 0.60653066 0.60653066]\n",
      " [0.60653066 0.60653066 0.60653066]]\n",
      "[0.22313016 0.22313016 0.22313016 0.22313016 0.22313016 0.22313016\n",
      " 0.22313016 0.22313016 0.22313016 0.22313016]\n"
     ]
    }
   ],
   "source": [
    "sigma = np.clip(np.sqrt(np.average(z**2, axis=0)), 0.01, 10)\n",
    "weights =  np.exp(-z ** 2 / (2 * sigma ** 2))\n",
    "Finalweights = np.prod(weights, axis=1)\n",
    "print(sigma)\n",
    "print(weights)\n",
    "print(Finalweights)\n",
    "\n",
    "        "
   ]
  },
  {
   "cell_type": "code",
   "execution_count": 42,
   "metadata": {},
   "outputs": [
    {
     "name": "stdout",
     "output_type": "stream",
     "text": [
      "[0.1 0.1 0.1 0.1 0.1 0.1 0.1 0.1 0.1 0.1]\n"
     ]
    }
   ],
   "source": [
    "# Normalize weights\n",
    "Finalweights = Finalweights/ np.sum(Finalweights)\n",
    "print(Finalweights)"
   ]
  },
  {
   "cell_type": "code",
   "execution_count": null,
   "metadata": {},
   "outputs": [],
   "source": [
    " # Resampling\n",
    "proposal_indices = np.random.choice(self.particle_indices, self.NP, p=self.weights)\n",
    "self.proposal_distribution = self.particles[proposal_indices,:]"
   ]
  }
 ],
 "metadata": {
  "kernelspec": {
   "display_name": "F1T_benchmark",
   "language": "python",
   "name": "python3"
  },
  "language_info": {
   "codemirror_mode": {
    "name": "ipython",
    "version": 3
   },
   "file_extension": ".py",
   "mimetype": "text/x-python",
   "name": "python",
   "nbconvert_exporter": "python",
   "pygments_lexer": "ipython3",
   "version": "3.10.12"
  }
 },
 "nbformat": 4,
 "nbformat_minor": 2
}
